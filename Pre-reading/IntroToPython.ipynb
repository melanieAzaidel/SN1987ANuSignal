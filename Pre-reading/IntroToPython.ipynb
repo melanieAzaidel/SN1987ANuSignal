{
 "cells": [
  {
   "cell_type": "markdown",
   "metadata": {
    "id": "kaKXUafQr1P6"
   },
   "source": [
    "# Intro to Python\n",
    "\n",
    "Adapted from Tawny Sit.\n",
    "\n",
    "This is a Jupyter notebook. Essentially, it is a way to interactively run Python code. Notebooks are composed of cells. Cells contain either Markdown (a simple language for presenting text like this cell) or code to be executed.\n",
    "\n",
    "First, let's quickly talk about Markdown. Double click on this cell to reveal the Markdown code within. You can see some simple formatting within here, and find a [cheat sheet](https://github.com/adam-p/markdown-here/wiki/Markdown-Cheatsheet) to formatting if you follow this link. If you are familiar with html, this is similar (or can be used somewhat interchangeably I think). To go back to a nice looking text-cell, hit option-enter.\n",
    "\n",
    "Now, we will look into coding aspect of notebooks. As far as I am aware, notebooks can be used in almost any language. We will be using Python, which is the language that many people have adopted for data processing. It is a language with many purposes though, which stems from its open nature. In this notebook, I will provide most of the code and give you hints of where to edit it to make things run as intended.\n",
    "\n",
    "So let's start, first we will define some variables and run some basic code. In this format, I still prefer to do most of the writing in Markdown cells, but also include comments in the code. In Python, comments are lines that begin with a \\#. My philosophy is to include longer thoughts, etc in Markdown cells, and the more step-by-step instructions in the comments. For the first bit of code, we will do some simple printing of variables and their \"types\".\n",
    "\n",
    "Read the following cells in this notebook all the way through and then execute the code they contains by hitting 'Shift+Enter'."
   ]
  },
  {
   "cell_type": "markdown",
   "metadata": {
    "id": "wYOfUAM0E-m5"
   },
   "source": [
    "### ***Integers (`Int`) and Floats (`Float`)***"
   ]
  },
  {
   "cell_type": "code",
   "execution_count": null,
   "metadata": {
    "colab": {
     "base_uri": "https://localhost:8080/"
    },
    "executionInfo": {
     "elapsed": 342,
     "status": "ok",
     "timestamp": 1691360094115,
     "user": {
      "displayName": "Debosmita Pathak",
      "userId": "16788179947880123598"
     },
     "user_tz": 240
    },
    "id": "0ngepRnDr1P-",
    "outputId": "e4295c6d-f199-401e-b12d-51fbf41f359c"
   },
   "outputs": [
    {
     "name": "stdout",
     "output_type": "stream",
     "text": [
      "The value of x is  2\n"
     ]
    }
   ],
   "source": [
    "# Let's define a variable. This one will be an 'integer', which means that it doesn't have a decimal point '.'\n",
    "x = 2\n",
    "# Now, let's make sure that x kept the value we gave it by using the 'print()' function\n",
    "print('The value of x is ', x)"
   ]
  },
  {
   "cell_type": "code",
   "execution_count": null,
   "metadata": {
    "colab": {
     "base_uri": "https://localhost:8080/"
    },
    "executionInfo": {
     "elapsed": 271,
     "status": "ok",
     "timestamp": 1691360097861,
     "user": {
      "displayName": "Debosmita Pathak",
      "userId": "16788179947880123598"
     },
     "user_tz": 240
    },
    "id": "B_aXd-ipr1QH",
    "outputId": "29e45c15-e8f0-4c8a-a6e8-3fe24785b13c"
   },
   "outputs": [
    {
     "name": "stdout",
     "output_type": "stream",
     "text": [
      "<class 'int'>\n"
     ]
    }
   ],
   "source": [
    "# let's check the 'type' of our variable. To do so, we need the functions 'type()' and 'print()'\n",
    "# using these functions in conjuction, we will print the type of\n",
    "print(type(x))"
   ]
  },
  {
   "cell_type": "code",
   "execution_count": null,
   "metadata": {
    "colab": {
     "base_uri": "https://localhost:8080/"
    },
    "executionInfo": {
     "elapsed": 298,
     "status": "ok",
     "timestamp": 1691360103304,
     "user": {
      "displayName": "Debosmita Pathak",
      "userId": "16788179947880123598"
     },
     "user_tz": 240
    },
    "id": "qN4yVie6tQrU",
    "outputId": "03dc7414-57c7-46c7-b03b-faf72e050ebd"
   },
   "outputs": [
    {
     "name": "stdout",
     "output_type": "stream",
     "text": [
      "2\n"
     ]
    }
   ],
   "source": [
    "# and finally, let's check the value of x one more time to see if it stayed the same\n",
    "print(x)"
   ]
  },
  {
   "cell_type": "markdown",
   "metadata": {
    "id": "44z-Ar79r1QN"
   },
   "source": [
    "Now, before we get too far into variables, we need to note that Python is a programming language that will manipulate the types of variables in the background. Some languages don't, which are called 'strongly typed' languages. They usually take some declariation of variables types like:\n",
    "\n",
    "\n",
    "`int x = 3;`\n",
    "\n",
    "Python just needs to know we have a variable called 'x', and it will figure out the type as we give it values. This has advantages and disadvantages we can talk about later. In short, 'strongly typed' languages don't like you mixing variables with different types due to the way they use the computer's memory. But Python will let us be looser with this. Read the following cell all the way through and then execute the code it contains by hitting 'Shift+Enter':"
   ]
  },
  {
   "cell_type": "code",
   "execution_count": null,
   "metadata": {
    "colab": {
     "base_uri": "https://localhost:8080/"
    },
    "executionInfo": {
     "elapsed": 280,
     "status": "ok",
     "timestamp": 1691360152885,
     "user": {
      "displayName": "Debosmita Pathak",
      "userId": "16788179947880123598"
     },
     "user_tz": 240
    },
    "id": "KcW9hBxAr1QO",
    "outputId": "c140b6d6-94fe-4769-a790-da073771ed31"
   },
   "outputs": [
    {
     "name": "stdout",
     "output_type": "stream",
     "text": [
      "The type of x is  <class 'int'>\n",
      "The type of y is  <class 'float'>\n",
      "The type of z is  <class 'float'>\n"
     ]
    }
   ],
   "source": [
    "# let's get an integer variable again\n",
    "x = 3\n",
    "# now let's define a floating point variable, or just float for short (all that means is it has a decimal point '.')\n",
    "y = 2.\n",
    "# now we will define a third variable that is the sum of an integer and a float\n",
    "z = x + y\n",
    "# first we will print the type of x again:\n",
    "print('The type of x is ',type(x))\n",
    "print('The type of y is ',type(y))\n",
    "print('The type of z is ',type(z))"
   ]
  },
  {
   "cell_type": "code",
   "execution_count": null,
   "metadata": {
    "id": "8PjbitTkLEkv"
   },
   "outputs": [],
   "source": [
    "# now try going through and trying other operations besides addition '+'\n",
    "# (eg. subtraction '-', multiplication '*', and division '/') for combining x and y\n",
    "# and print out of the value of z each time.\n",
    "\n",
    "# Your code:\n",
    "z =\n",
    "print('The value of z is ', z)"
   ]
  },
  {
   "cell_type": "markdown",
   "metadata": {
    "id": "xDcRzotmuYf3"
   },
   "source": [
    "Note that in Python, exponentiation is represented by a double asterisk (`**`), so for example, to square a variable x ($x^2$) you would write `x**2`."
   ]
  },
  {
   "cell_type": "markdown",
   "metadata": {
    "id": "t9Z4yeGCr1QR"
   },
   "source": [
    "### ***Strings (`Str`)***\n",
    "Another type of variable is called a string. We can talk about them more, but they really are just strings of characters. They are defined with quotation marks. See the next cell. In the `print()` functions above, the parts that say 'The type...' are also strings."
   ]
  },
  {
   "cell_type": "code",
   "execution_count": null,
   "metadata": {
    "colab": {
     "base_uri": "https://localhost:8080/"
    },
    "executionInfo": {
     "elapsed": 263,
     "status": "ok",
     "timestamp": 1691360173095,
     "user": {
      "displayName": "Debosmita Pathak",
      "userId": "16788179947880123598"
     },
     "user_tz": 240
    },
    "id": "h4iLZ4O9r1QS",
    "outputId": "7b4701dc-b784-4de4-ea13-af1b001c16d8"
   },
   "outputs": [
    {
     "name": "stdout",
     "output_type": "stream",
     "text": [
      "This is a string we can add a lot of text\n"
     ]
    }
   ],
   "source": [
    "test = 'This is a string we can add a lot of text'\n",
    "print(test)"
   ]
  },
  {
   "cell_type": "code",
   "execution_count": null,
   "metadata": {
    "id": "BYFcZjRsL5O6"
   },
   "outputs": [],
   "source": [
    "## You can \"concatenate\" multiple strs with a + symbol\n",
    "print(\"thing 1\" + \" and \" + \"thing2\")"
   ]
  },
  {
   "cell_type": "code",
   "execution_count": null,
   "metadata": {
    "id": "fQVHTczeLX4f"
   },
   "outputs": [],
   "source": [
    "# Now, create a variable called First_Name and assign it your first name\n",
    "# Then, create a second variable called Last_name and assign it your last name\n",
    "# Finally, print out your concatenated First name and Last name\n",
    "# Your code:\n",
    "\n"
   ]
  },
  {
   "cell_type": "markdown",
   "metadata": {
    "id": "2v34FoPUooSD"
   },
   "source": [
    "Okay, now it is your turn! Take some time define five of your own variables named whatever you like. They can be any type, and any value. See if you can get Python to break."
   ]
  },
  {
   "cell_type": "code",
   "execution_count": null,
   "metadata": {
    "id": "TaUj6u8tTsg9"
   },
   "outputs": [],
   "source": [
    "# Your code here:\n",
    "\n"
   ]
  },
  {
   "cell_type": "markdown",
   "metadata": {
    "id": "pxZZjUAeTtL2"
   },
   "source": [
    "# BREAK POINT ONE: PAUSE WHEN YOU GET HERE\n",
    "\n",
    "\n",
    "\n",
    "\n"
   ]
  },
  {
   "cell_type": "markdown",
   "metadata": {
    "id": "3rlXroAna6y5"
   },
   "source": [
    "### ***Lists***\n",
    "```Lists``` are collections of python objects (for example, `ints` or `strs` strings). These groupings can make later manipulation easier."
   ]
  },
  {
   "cell_type": "code",
   "execution_count": null,
   "metadata": {
    "colab": {
     "base_uri": "https://localhost:8080/"
    },
    "executionInfo": {
     "elapsed": 363,
     "status": "ok",
     "timestamp": 1691360304018,
     "user": {
      "displayName": "Debosmita Pathak",
      "userId": "16788179947880123598"
     },
     "user_tz": 240
    },
    "id": "upbHbnJsbDGc",
    "outputId": "ba74f1da-8e3d-4bee-cab2-138e363bb257"
   },
   "outputs": [
    {
     "name": "stdout",
     "output_type": "stream",
     "text": [
      "[1, 2, 3, 4, 5, 5.5, 10.7, 20.1]\n",
      "1\n"
     ]
    }
   ],
   "source": [
    "#Here is our first list. it is denoted by square brackets \"[]\" and have the values of separated by commas \",\"\n",
    "list_1 = [1, 2, 3, 4, 5, 5.5, 10.7, 20.1]\n",
    "#Now let's print the list\n",
    "print(list_1)\n",
    "print(list_1[0])"
   ]
  },
  {
   "cell_type": "markdown",
   "metadata": {
    "id": "iZIKK7BVbk7Q"
   },
   "source": [
    "`Lists` can be indexed, meaning you can access specific entries using numerical indices. Python is \"zero-indexed\". This means the first element in a list is the \"0th\" element. To reference a `list`, you need to provide an index to the `list`. See the next code cell for the syntax to do so."
   ]
  },
  {
   "cell_type": "code",
   "execution_count": null,
   "metadata": {
    "colab": {
     "base_uri": "https://localhost:8080/"
    },
    "executionInfo": {
     "elapsed": 7,
     "status": "ok",
     "timestamp": 1691360305073,
     "user": {
      "displayName": "Debosmita Pathak",
      "userId": "16788179947880123598"
     },
     "user_tz": 240
    },
    "id": "G7lcekfMb3IX",
    "outputId": "09456798-14e1-4cea-f4e4-7d3ed88ca4cf"
   },
   "outputs": [
    {
     "name": "stdout",
     "output_type": "stream",
     "text": [
      "The element at the index of zero is  1\n"
     ]
    }
   ],
   "source": [
    "#Let's see which element of the list is produced when we give the list an index of 0.\n",
    "print('The element at the index of zero is ', list_1[0])"
   ]
  },
  {
   "cell_type": "markdown",
   "metadata": {
    "id": "Ho185hAicJV9"
   },
   "source": [
    "This is what is meant by the zero-indexed. Now, try and reference every other element in the array. How many elements are in the `list` in total? What index will reference the last element?"
   ]
  },
  {
   "cell_type": "code",
   "execution_count": null,
   "metadata": {
    "colab": {
     "base_uri": "https://localhost:8080/",
     "height": 143
    },
    "executionInfo": {
     "elapsed": 6,
     "status": "error",
     "timestamp": 1691360305074,
     "user": {
      "displayName": "Debosmita Pathak",
      "userId": "16788179947880123598"
     },
     "user_tz": 240
    },
    "id": "_xEGBW5bcfbT",
    "outputId": "75ada1ce-70db-4381-fdbf-55fede4d0b17"
   },
   "outputs": [],
   "source": [
    "#Use this cell to print every element of list_1 by changing the index variable 'ind'\n",
    "ind =\n",
    "print('The element of list_1 at index ', ind,' is ',list_1[ind])\n",
    "#Also try and reference the list with -1 and -2!"
   ]
  },
  {
   "cell_type": "markdown",
   "metadata": {
    "id": "-5OeLE_YdGWM"
   },
   "source": [
    "# BREAK POINT TWO: PAUSE WHEN YOU GET HERE\n"
   ]
  },
  {
   "cell_type": "markdown",
   "metadata": {
    "id": "ejk9Y6Gtezid"
   },
   "source": [
    "## ***Conditionals***\n",
    "Next we are going to look at conditional statements. These check a variable or a condition to see if the enclosed instruction should be performed."
   ]
  },
  {
   "cell_type": "markdown",
   "metadata": {
    "id": "8CS2FSnEfSRc"
   },
   "source": [
    "### **`if` statments**\n",
    "An `if` statement checks to see if the logical is `True` and if it is, it executes the code that follows.\n",
    "\n",
    "\n",
    "\n",
    "#### *Python uses whitespace*\n",
    "We'll see in this example that python is dependent on whitespace to know what to do."
   ]
  },
  {
   "cell_type": "code",
   "execution_count": null,
   "metadata": {
    "id": "8-ASFms-e-Ww"
   },
   "outputs": [],
   "source": [
    "## if statements\n",
    "## first write if, then the logical statement, then a colon (:)\n",
    "## The code you want executed should then be indented until you no\n",
    "## longer want to be in the conditional\n",
    "\n",
    "#For our first conditional, let's use a simple True or False boolean variable\n",
    "cond_1 = True\n",
    "\n",
    "# the conditional\n",
    "if cond_1:\n",
    "    # the indent\n",
    "    print('cond_1 was True!!')\n",
    "elif ~cond_1:\n",
    "    # the indent\n",
    "    print('cond_1 was False!!')\n",
    "else:\n",
    "    print('oops')"
   ]
  },
  {
   "cell_type": "code",
   "execution_count": null,
   "metadata": {
    "id": "2b1LUwkXK1Pa"
   },
   "outputs": [],
   "source": [
    "# what happens if you change cond_1 to False and then run the if statement?\n",
    "# try it out here:\n",
    "\n",
    "\n",
    "\n"
   ]
  },
  {
   "cell_type": "markdown",
   "metadata": {
    "id": "MVSM3MJ4Jx97"
   },
   "source": [
    "We can also use these standard math operations in our conditional statements.\n",
    "\n",
    "Standard math operations:\n",
    "- `a == b` checks if `a` is equal to `b`\n",
    "- `a != b` checks if `a` is not equal to `b`\n",
    "- `a < b` checks if `a` is less than `b`\n",
    "- `a <= b` checks if `a` is less than or equal to `b`\n",
    "- `a > b` checks if `a` is greater than `b`\n",
    "- `a >= b` checks if `a` is greater than or equal to `b`.\n",
    "\n",
    "Now lets try using the standard math operations to run a few `if` statements"
   ]
  },
  {
   "cell_type": "code",
   "execution_count": null,
   "metadata": {
    "id": "FZLtVKgJfZUP"
   },
   "outputs": [],
   "source": [
    "# here, our variable will be cond_2\n",
    "# first try and run this cell without changing cond_2\n",
    "cond_2 = True\n",
    "if (cond_2 == 10):\n",
    "    print('You changed the value of cond_2 to 10!')"
   ]
  },
  {
   "cell_type": "code",
   "execution_count": null,
   "metadata": {
    "id": "hPuFzYZ5Kl4l"
   },
   "outputs": [],
   "source": [
    "# How would you edit the previous code to display the text:\n",
    "# 'You changed the value of cond_2 to 10!\n",
    "\n",
    "# Your code:\n",
    "\n",
    "\n"
   ]
  },
  {
   "cell_type": "code",
   "execution_count": null,
   "metadata": {
    "id": "yJfuRS2dgJPD"
   },
   "outputs": [],
   "source": [
    "# now we will compare the values of two variables cond_3 and cond_4\n",
    "cond_3 = 100\n",
    "cond_4 = 100.00000000000001\n",
    "if (cond_3 < cond_4):\n",
    "      print('The condition was True!')"
   ]
  },
  {
   "cell_type": "markdown",
   "metadata": {
    "id": "vGSpy6I9gX-9"
   },
   "source": [
    "# BREAK POINT THREE: PAUSE WHEN YOU GET HERE\n"
   ]
  },
  {
   "cell_type": "markdown",
   "metadata": {
    "id": "lHN982tZeSyc"
   },
   "source": [
    "### ***Loops***\n",
    "Maybe you want to execute a chunk of code ten or  100  times, or maybe you want a code chunk to execute until a certain condition is met. Then you want to run a *loop*.\n",
    "\n",
    "Loops are useful for doing something repeatedly. There are two kinds of loops.\n",
    "\n",
    "#### **`for` loops**\n",
    "A `for` loop runs a chunk of code a certain number of times, or through an iterable object (remember `lists`???)"
   ]
  },
  {
   "cell_type": "code",
   "execution_count": null,
   "metadata": {
    "id": "s1qurwuMPxKS"
   },
   "outputs": [],
   "source": [
    "# A for loop start with the for statement,\n",
    "# i.e. for blank in blank\n",
    "for i in range(0,10):     #this will range from 0 to 9, i.e. 10 total numbers\n",
    "    # then the indent\n",
    "    # which denotes the code chunk we want executed\n",
    "    # each time through the loop\n",
    "    print(i)\n",
    "\n",
    "# once we're done with the loop we return to the original indent level\n",
    "print(\"all done\")"
   ]
  },
  {
   "cell_type": "markdown",
   "metadata": {
    "id": "7U4pgBffuYf6"
   },
   "source": [
    "A little note about `range()`: you input a number, n, and range will go from 0 to n-1"
   ]
  },
  {
   "cell_type": "code",
   "execution_count": null,
   "metadata": {
    "id": "-gU5jeF1ebUl"
   },
   "outputs": [],
   "source": [
    "#We can also loop through an iterable object like a `list`\n",
    "list_2 = [0,1,2,3,4,5,6]\n",
    "#now, let's make the for loop\n",
    "for i in list_2:\n",
    "    print('This is one loop iteration')\n",
    "    print(i)\n",
    "print('Loop is finished')\n",
    "#now try adding your own print statement to the for loop"
   ]
  },
  {
   "cell_type": "markdown",
   "metadata": {
    "id": "Jreng4RDerDv"
   },
   "source": [
    "### **`While` loops**\n",
    "Next is a `while` loop. This loop will repeat until a conditional statement is evaluated as True."
   ]
  },
  {
   "cell_type": "code",
   "execution_count": null,
   "metadata": {
    "id": "QmwCw_VdhRw1"
   },
   "outputs": [],
   "source": [
    "#first, let's set a counter at zero\n",
    "counter = 0\n",
    "# now, let's set up the while loop\n",
    "while (counter<10):\n",
    "    counter += 1\n",
    "    print(counter)\n",
    "print('Loop finished')\n",
    "# what does the += 1 do? Change the value of 1 to a different number"
   ]
  },
  {
   "cell_type": "markdown",
   "metadata": {
    "id": "LS6pwVbRh3pX"
   },
   "source": [
    "# BREAK POINT FOUR: PAUSE WHEN YOU GET HERE\n",
    "\n"
   ]
  },
  {
   "cell_type": "markdown",
   "metadata": {
    "id": "eqoHdZMvi_KJ"
   },
   "source": [
    "### **Functions**\n",
    "If you're running the exact same chunk of code once or twice you can probably just copy and paste as needed. However, if you find yourself copy and pasting more than three times, it is probably in your best interest to instead write a `function` (sometimes called a `method`) that you can just call instead.\n",
    "\n",
    "We will want to use functions to perform blocks of code we will want to repeat. For example, let's write a function."
   ]
  },
  {
   "cell_type": "code",
   "execution_count": null,
   "metadata": {
    "id": "e8abacXwjIDf"
   },
   "outputs": [],
   "source": [
    "# To write a function you start with def function_name(arguments) then have a colon\n",
    "# all code you want included as a part of the function should be\n",
    "# properly indented!\n",
    "\n",
    "def silly_subtract_add(x,y,z): # this function takes three arugments: x, y, and z\n",
    "    fun_math = x - y + z  # we do some fun subtraction on the three variables\n",
    "    return fun_math # and we return the value of the fun_math"
   ]
  },
  {
   "cell_type": "code",
   "execution_count": null,
   "metadata": {
    "colab": {
     "base_uri": "https://localhost:8080/"
    },
    "executionInfo": {
     "elapsed": 3,
     "status": "ok",
     "timestamp": 1691437124635,
     "user": {
      "displayName": "Debosmita Pathak",
      "userId": "16788179947880123598"
     },
     "user_tz": 240
    },
    "id": "yfTXBIg8sTCA",
    "outputId": "95131bb0-b97c-4b6e-a361-0fe8addedc3c"
   },
   "outputs": [
    {
     "data": {
      "text/plain": [
       "2"
      ]
     },
     "execution_count": 2,
     "metadata": {},
     "output_type": "execute_result"
    }
   ],
   "source": [
    "# now, let's call our function with three variables x, y, and z\n",
    "\n",
    "silly_subtract_add(1,2,3) # for this function, I have input the arguments: x=1, y=2, and z=3"
   ]
  },
  {
   "cell_type": "code",
   "execution_count": null,
   "metadata": {
    "id": "vU0oWWCusKPj"
   },
   "outputs": [],
   "source": [
    "# here is another example\n",
    "def func_1(arg_1,arg_2):    # this function takes two arguments: arg_1 and arg_2\n",
    "    output = arg_1 + arg_2\n",
    "    print('Output will be ',output)\n",
    "    return output           # this function returns the value of output\n"
   ]
  },
  {
   "cell_type": "code",
   "execution_count": null,
   "metadata": {
    "id": "A-8Oo1pFjfA6"
   },
   "outputs": [],
   "source": [
    "#now, let's call our function with two variables x1 and x2\n",
    "x1 = 100.1\n",
    "x2 = 0.2\n",
    "sum_x1_x2 = func_1(x1,x2)\n",
    "print(sum_x1_x2)"
   ]
  },
  {
   "cell_type": "code",
   "execution_count": null,
   "metadata": {
    "id": "Nqn75dFVUIn0"
   },
   "outputs": [],
   "source": [
    "# Now, change the values of x_1 and x_2 and\n",
    "# Add your own lines to func_1 (before the 'return' line) and\n",
    "# run again\n",
    "\n",
    "# Your code:\n",
    "\n",
    "\n"
   ]
  },
  {
   "cell_type": "markdown",
   "metadata": {
    "id": "yxZfeqM_uYgA"
   },
   "source": [
    "Technically, any Python command with input in parentheses () is a function! That means the `print()` statements we've been using this whole time are *built-in* functions"
   ]
  },
  {
   "cell_type": "markdown",
   "metadata": {
    "id": "JrrwFfGIk2a_"
   },
   "source": [
    "# BREAK POINT FIVE: PAUSE WHEN YOU GET HERE\n",
    "\n"
   ]
  },
  {
   "cell_type": "markdown",
   "metadata": {
    "id": "3TAtG363r1Qt"
   },
   "source": [
    "### **Importing packages**\n",
    "\n",
    "Sometimes we'll want to do something with python that isn't built into base python. Now we could code it up ourselves, but it is usually the case that there is a package you can `import` that does what you'd like to do.\n",
    "\n",
    "Python packages are collections of pre-written code that you can use.\n",
    "\n",
    "Let's see how we can use the `math` package."
   ]
  },
  {
   "cell_type": "markdown",
   "metadata": {
    "id": "al-EqU71mAT4"
   },
   "source": [
    "### `math` Package\n",
    "The `math` package contains all the mathematical functions and objects you may be interested in like $\\sin$, $\\cos$, $e$, $\\pi$ and $\\log$."
   ]
  },
  {
   "cell_type": "code",
   "execution_count": null,
   "metadata": {
    "id": "Rm8yyTwDr1Q2"
   },
   "outputs": [],
   "source": [
    "# importing a package happens with import package_name\n",
    "import math\n",
    "\n",
    "# When this code is run, you will import the math package"
   ]
  },
  {
   "cell_type": "code",
   "execution_count": null,
   "metadata": {
    "id": "BiYv2eyxr1Q5"
   },
   "outputs": [],
   "source": [
    "# packages have a number of built-in objects, and methods we can use\n",
    "# let's start with pi\n",
    "# First write the package name then a period then the object/function you want\n",
    "# for example math.pi\n",
    "math.pi"
   ]
  },
  {
   "cell_type": "code",
   "execution_count": null,
   "metadata": {
    "id": "VKXHPJy9r1Q9"
   },
   "outputs": [],
   "source": [
    "# You code\n",
    "# Try finding the cosine of 3pi/4\n",
    "# cosine is stored in math.cos\n"
   ]
  },
  {
   "cell_type": "code",
   "execution_count": null,
   "metadata": {
    "id": "e01C2pqkmckR"
   },
   "outputs": [],
   "source": [
    "# now let's try finding e^7.\n",
    "# euler's number is stored in math.exp\n",
    "# (it should be equal to approximately 1096...)\n",
    "# remember, exponents in Python use `**`\n",
    "# You code:\n"
   ]
  },
  {
   "cell_type": "code",
   "execution_count": null,
   "metadata": {
    "id": "po3aCuJdnRtd"
   },
   "outputs": [],
   "source": [
    "# try finding the square root of 36\n",
    "# it is stored under the function math.sqrt\n",
    "# You code:"
   ]
  },
  {
   "cell_type": "markdown",
   "metadata": {
    "id": "Odrx1N1vnfeR"
   },
   "source": [
    "You can find more about a package at the package's *documentation*. When you're learning how a new package you've found works, going their is usually your first step.\n",
    "\n",
    "Here we can see the documentation for the `math` package, <a href=\"https://docs.python.org/3/library/math.html\">https://docs.python.org/3/library/math.html</a>.\n",
    "\n",
    "If you're new to Python, reading documentation can seem difficult. That's normal! It can take a little bit to get comfortable reading documentation (often called the docs)."
   ]
  }
 ],
 "metadata": {
  "colab": {
   "provenance": [
    {
     "file_id": "1jic3Vqcs-Vq4DdMPQ4gBeuZKkuh05Kj2",
     "timestamp": 1625068302939
    }
   ]
  },
  "kernelspec": {
   "display_name": "Python 3 (ipykernel)",
   "language": "python",
   "name": "python3"
  },
  "language_info": {
   "codemirror_mode": {
    "name": "ipython",
    "version": 3
   },
   "file_extension": ".py",
   "mimetype": "text/x-python",
   "name": "python",
   "nbconvert_exporter": "python",
   "pygments_lexer": "ipython3",
   "version": "3.11.7"
  },
  "toc": {
   "base_numbering": 1,
   "nav_menu": {},
   "number_sections": false,
   "sideBar": false,
   "skip_h1_title": false,
   "title_cell": "Table of Contents",
   "title_sidebar": "Contents",
   "toc_cell": false,
   "toc_position": {},
   "toc_section_display": false,
   "toc_window_display": false
  }
 },
 "nbformat": 4,
 "nbformat_minor": 4
}
