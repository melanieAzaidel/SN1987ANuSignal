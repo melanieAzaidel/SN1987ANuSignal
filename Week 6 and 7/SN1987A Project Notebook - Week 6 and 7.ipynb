{
 "cells": [
  {
   "cell_type": "markdown",
   "id": "a4b4008c-1e48-4677-9272-51dc45740d46",
   "metadata": {},
   "source": [
    "# Calculating the Limit on the Mass of the Neutrino and Plotting the Neutrino Detection Data of SN1987A"
   ]
  },
  {
   "cell_type": "markdown",
   "id": "443e5215-f981-4a18-abb6-3ba809231009",
   "metadata": {},
   "source": [
    "Notebook created by Melanie Zaidel for the Polaris Mentorship Course 2023/2024.\n",
    "\n",
    "<div><center>\n",
    "<img src=\"SN1987A.jpg\" width=\"300\"/>\n",
    "</div></center>"
   ]
  },
  {
   "cell_type": "markdown",
   "id": "2bed7d28-2ae0-4624-b7ae-7980b9aa59e8",
   "metadata": {},
   "source": [
    "In this notebook, I'll be guiding you to calculating a limit on the mass of the neutrino, as well as plotting the neutrino detection data."
   ]
  },
  {
   "cell_type": "markdown",
   "id": "e2276f18-e101-4414-a467-e0f2d101d0c7",
   "metadata": {},
   "source": [
    "You'll be working through this notebook for the next two weeks or so. At any point, feel free to use the Internet or ask me for help. In particular, StackOverflow, ChatGPT, or various Python documentation may be particularly helpful resources. The goal is for you to get some experience using Python on your own in a scientific environment."
   ]
  },
  {
   "cell_type": "markdown",
   "id": "90ed5292-f614-4085-829d-9f4fd44f354b",
   "metadata": {},
   "source": [
    "In addition to this file, make sure you also have the data file <code>IMB_KII.csv</code> in the same directory."
   ]
  },
  {
   "cell_type": "markdown",
   "id": "f90735b8-f013-436b-800a-f98c09fd801b",
   "metadata": {},
   "source": [
    "Before you start, import every package that you'll need."
   ]
  },
  {
   "cell_type": "code",
   "execution_count": 1,
   "id": "8a528698-2c14-4df4-aadb-3c1e82eab694",
   "metadata": {},
   "outputs": [],
   "source": [
    "import numpy as np\n",
    "import pandas as pd\n",
    "import matplotlib\n",
    "import matplotlib.pyplot as plt\n",
    "import astropy\n",
    "from astropy import constants"
   ]
  },
  {
   "cell_type": "markdown",
   "id": "844974bf-2255-4a45-9f64-fc36b792a0d0",
   "metadata": {},
   "source": [
    "If you have any problems with importing the above packages, please let me know."
   ]
  },
  {
   "cell_type": "markdown",
   "id": "7c23865f-8343-4ca5-948f-916346327676",
   "metadata": {},
   "source": [
    "If you end up working through this notebook faster than the headings suggest for each week's worth of work, and if you have time, feel free to keep going!"
   ]
  },
  {
   "cell_type": "markdown",
   "id": "4181f568-e1a1-4798-8ca0-d00dec358094",
   "metadata": {},
   "source": [
    "# Week 6 (3/25 - 4/1): Plotting the SN1987A neutrino detection data"
   ]
  },
  {
   "cell_type": "markdown",
   "id": "d67c0f48-37f7-40d9-902b-1adc3daa5cf8",
   "metadata": {},
   "source": [
    "Your first task is to plot the IMB and KII neutrino detection data. As inspiration, here is an example of what such a plot might look like:\n",
    "<div><center>\n",
    "<img src=\"examplePlot.jpg\" width=\"500\"/>\n",
    "</div></center>"
   ]
  },
  {
   "cell_type": "markdown",
   "id": "6ea37db2-7b3a-4e16-a27a-dfb8a81b9ebd",
   "metadata": {},
   "source": [
    "You'll be using data from the Irvine-Michigan-Brookhaven (IMB) and Kamiokande-II (KII) detectors."
   ]
  },
  {
   "cell_type": "markdown",
   "id": "49f35269-3cf1-47c4-b53d-27ef91689820",
   "metadata": {},
   "source": [
    "What are some things you notice about this plot? Answer below. Take note of axes, ticks, and anything else that you think is going to be relevant for plotting. Is there anything you want to add?"
   ]
  },
  {
   "cell_type": "markdown",
   "id": "c6e92aef-8ded-428d-a7cb-305d50f834cd",
   "metadata": {},
   "source": []
  },
  {
   "cell_type": "markdown",
   "id": "c9cfd3f1-6a1f-4676-994d-88e669c3497e",
   "metadata": {},
   "source": [
    "We're now going to summon the neutrino detection data from the file. To do so, we'll be using the <code>pandas</code> package."
   ]
  },
  {
   "cell_type": "code",
   "execution_count": 39,
   "id": "6153bf86-1129-47f8-bf6f-beb2d2d12ed3",
   "metadata": {},
   "outputs": [],
   "source": [
    "labels = ['Time since first detection [s]','Energy [MeV]','Energy Uncertainty [MeV]','Experiment']\n",
    "df_data = pd.read_csv('IMB_KII.csv',names=labels)"
   ]
  },
  {
   "cell_type": "markdown",
   "id": "5c7fd653-dc55-42ad-b449-421c66203b43",
   "metadata": {},
   "source": [
    "Go ahead and display this <code>df_data</code> object. What does it look like?"
   ]
  },
  {
   "cell_type": "code",
   "execution_count": null,
   "id": "c0e1df55-69e5-4d19-b5d5-7fe24755b71e",
   "metadata": {},
   "outputs": [],
   "source": [
    "df_data"
   ]
  },
  {
   "cell_type": "markdown",
   "id": "33d49590-5e01-467b-bb94-8d053be1adb4",
   "metadata": {},
   "source": []
  },
  {
   "cell_type": "markdown",
   "id": "5bc59f22-0fd7-45e9-ac88-301d4cd654f4",
   "metadata": {},
   "source": [
    "This object is called a \"DataFrame\" and is very useful for manipulating data. It's particularly helpful for bringing data into Python from Excel, which is something I do pretty regularly."
   ]
  },
  {
   "cell_type": "markdown",
   "id": "2cd22c9e-6245-4474-b2db-e082850634c0",
   "metadata": {},
   "source": [
    "The next step is making the DataFrame into numpy arrays which is a more convenient structure for plotting and statistics."
   ]
  },
  {
   "cell_type": "code",
   "execution_count": null,
   "id": "cb80563c-86ce-4817-9722-f32846b5876e",
   "metadata": {},
   "outputs": [],
   "source": [
    "IMB_data = df_data.loc[df_data['Experiment'] == 'IMB']\n",
    "KII_data = df_data.loc[df_data['Experiment'] == 'KII']"
   ]
  },
  {
   "cell_type": "code",
   "execution_count": 41,
   "id": "8be21a5f-064b-4cb1-843e-6ada8f1537fd",
   "metadata": {},
   "outputs": [],
   "source": [
    "IMB_E = np.array(IMB_data['Energy [MeV]'])\n",
    "IMB_E_err = np.array(IMB_data['Energy Uncertainty [MeV]'])\n",
    "IMB_t = np.array(IMB_data['Time since first detection [s]'])\n",
    "\n",
    "\n",
    "KII_E = np.array(KII_data['Energy [MeV]'])\n",
    "KII_E_err = np.array(KII_data['Energy Uncertainty [MeV]'])\n",
    "KII_t = np.array(KII_data['Time since first detection [s]'])"
   ]
  },
  {
   "cell_type": "markdown",
   "id": "799dc0dd-7f01-4162-8649-0e7ab6c45b66",
   "metadata": {},
   "source": [
    "Use the next cell to print out each of the numpy arrays and make sure they are formatted the way that you expect."
   ]
  },
  {
   "cell_type": "code",
   "execution_count": 9,
   "id": "a19e2f72-62d7-4cdd-8a4a-925584d4faee",
   "metadata": {},
   "outputs": [],
   "source": [
    "#Your code here"
   ]
  },
  {
   "cell_type": "markdown",
   "id": "37b8702d-4cd6-4c09-b587-0189b86aeb4b",
   "metadata": {},
   "source": [
    "Now, go ahead and plot the data! Use whatever resources may be helpful. I'm looking for:\n",
    "\n",
    "* Neutrino energy on the vertical axis\n",
    "* Time since first detection on the horizontal axis\n",
    "* Errorbars given by the uncertainty in neutrino energy\n",
    "* KII and IMB data in different colors\n",
    "* A legend\n",
    "* Axes labels\n",
    "* A title"
   ]
  },
  {
   "cell_type": "markdown",
   "id": "99ad22ac-4d78-4df3-aba5-642fe191d0bd",
   "metadata": {},
   "source": [
    "I'll start you off by conjuring the *figure environment* and the axes.\n",
    "\n",
    "*Hint: If you're using ChatGPT to come up with the code to plot stuff, ask it do it in a \"figure environment\". That's what the fig, ax line below does.*"
   ]
  },
  {
   "cell_type": "code",
   "execution_count": null,
   "id": "3a55e451-9431-4ebb-8266-0443962c784d",
   "metadata": {},
   "outputs": [],
   "source": [
    "fig, ax = plt.subplots(1, 1, figsize=(4, 3),dpi=200)\n",
    "#Your code here\n",
    "plt.show()"
   ]
  },
  {
   "cell_type": "markdown",
   "id": "bb5ca908-d462-4fdc-a144-e618b4701270",
   "metadata": {},
   "source": [
    "# Week 7 (4/1 - 4/8): Calculating a limit on the Mass of the Neutrino"
   ]
  },
  {
   "cell_type": "markdown",
   "id": "a8f5345f-b43e-4bce-b58f-d89f452300a8",
   "metadata": {},
   "source": [
    "## Getting practice with Astropy"
   ]
  },
  {
   "cell_type": "markdown",
   "id": "09190158-acc5-4079-acda-260c46febe77",
   "metadata": {},
   "source": [
    "In the last few weeks you have done a lot of fantastic work including understanding some special relativity as well as setting up and solving the SN1987A neutrino problem. Now it's time to bring it home and calculate the value of the neutrino mass (rest energy)!"
   ]
  },
  {
   "cell_type": "markdown",
   "id": "7c0c710a-5287-4968-8a92-d0cb42e5186d",
   "metadata": {},
   "source": [
    "You found that the expression for the neutrino rest energy was given by\n",
    "\n",
    "$$\n",
    "m_\\nu c^2 = E_{\\nu_1} \\left(\\frac{2c\\Delta t}{D}\\right)^{\\frac{1}{2}} \\left(1 - \\Bigl(\\frac{E_{\\nu_1}}{E_{\\nu_2}}\\Bigr)^2\\right)^{-\\frac{1}{2}}\n",
    "$$"
   ]
  },
  {
   "cell_type": "markdown",
   "id": "eaa67032-6470-4b55-aa33-5d40c5679197",
   "metadata": {},
   "source": [
    "To calculate a numerical value for $m_\\nu c^2$, you'll be using the <code>astropy</code> package, which allows for the manipulation of units."
   ]
  },
  {
   "cell_type": "markdown",
   "id": "ed4662f6-9807-4ec4-bc6e-51eed308a2a7",
   "metadata": {},
   "source": [
    "Let's try a few things using <code>astropy</code>. To start, you can obtain information about physical constants. What is the speed of light?"
   ]
  },
  {
   "cell_type": "code",
   "execution_count": null,
   "id": "e4f19000-1c5a-4564-8ccf-b1e333c42bcb",
   "metadata": {},
   "outputs": [],
   "source": [
    "speed_of_light = astropy.constants.c\n",
    "print(speed_of_light)"
   ]
  },
  {
   "cell_type": "markdown",
   "id": "0a1d9664-8455-421a-8e4f-38111df25fe2",
   "metadata": {},
   "source": [
    "What if you wanted the speed of light in some funky units? Let's try getting $c$ in units of kiloparsec/day:"
   ]
  },
  {
   "cell_type": "code",
   "execution_count": null,
   "id": "d6d9d5cf-e1ca-4495-bba0-8e5d62d72da1",
   "metadata": {},
   "outputs": [],
   "source": [
    "print(speed_of_light.to('kpc/day'))"
   ]
  },
  {
   "cell_type": "markdown",
   "id": "cfd6c048-fd7e-4d67-b58a-1895581ec2f3",
   "metadata": {},
   "source": [
    "To convert unitful quantities, we use the <code>.to('units')</code> method."
   ]
  },
  {
   "cell_type": "markdown",
   "id": "1b355267-012e-40a9-b129-0183fa4a9aa0",
   "metadata": {},
   "source": [
    "Next, we'll go over units within the <code>astropy</code> framework. How would you get a Joule or a centimeter on their own? You can summon individual units using <code>astropy.units</code>."
   ]
  },
  {
   "cell_type": "markdown",
   "id": "b6470755-b1d7-43c7-b241-5a3cac8eaf45",
   "metadata": {},
   "source": [
    "How would you get a Joule as a unit?"
   ]
  },
  {
   "cell_type": "code",
   "execution_count": null,
   "id": "22fddf77-0f66-4ad2-a5e0-ca2f0d12e968",
   "metadata": {},
   "outputs": [],
   "source": [
    "joule = astropy.units.J\n",
    "print(joule)"
   ]
  },
  {
   "cell_type": "markdown",
   "id": "7263b27a-c046-4cdc-a496-e920f2a4bc20",
   "metadata": {},
   "source": [
    "How about a centimeter?"
   ]
  },
  {
   "cell_type": "code",
   "execution_count": null,
   "id": "066c451c-8403-4493-a9df-c23fe4de2506",
   "metadata": {},
   "outputs": [],
   "source": [
    "centimeter = astropy.units.cm\n",
    "print(centimeter)"
   ]
  },
  {
   "cell_type": "markdown",
   "id": "83c7906e-29f3-4ea9-add1-428a81211b71",
   "metadata": {},
   "source": [
    "You can *decompose* units. What is a Joule in terms of kilograms, meters, and seconds?"
   ]
  },
  {
   "cell_type": "code",
   "execution_count": null,
   "id": "1e0ba92a-3093-42b7-9350-06dc3d630d3a",
   "metadata": {},
   "outputs": [],
   "source": [
    "print(\"1 J = \" + str(joule.decompose()))"
   ]
  },
  {
   "cell_type": "markdown",
   "id": "fb24d4ce-f6f5-4c68-a3e2-e514a89cf6bb",
   "metadata": {},
   "source": [
    "You can convert units. How many electronvolts are in a Joule?"
   ]
  },
  {
   "cell_type": "code",
   "execution_count": null,
   "id": "2bde7f4a-d716-44da-8b16-c399f4f22a4f",
   "metadata": {},
   "outputs": [],
   "source": [
    "print(str(joule.to('eV')) + ' eV in 1 J.')"
   ]
  },
  {
   "cell_type": "markdown",
   "id": "b2bbeef1-f761-47c6-8818-49093e55ba82",
   "metadata": {},
   "source": [
    "How about the number of MeV in a Joule?"
   ]
  },
  {
   "cell_type": "code",
   "execution_count": null,
   "id": "83e7314f-2723-4ed7-8540-6c32899db72f",
   "metadata": {},
   "outputs": [],
   "source": [
    "print(str(joule.to('MeV')) + ' MeV in 1 J.')"
   ]
  },
  {
   "cell_type": "markdown",
   "id": "6ebb4150-2980-435c-a998-6c4c40bb6a3a",
   "metadata": {},
   "source": [
    "You can do math with units. Let's take the first parentheses of the expression you derived, $\\left(\\frac{2c\\Delta t}{D}\\right)$. What units does this have? We'll also take advantage of the fact that you can obtain just the unit associated with a quantity by using <code>.unit</code>."
   ]
  },
  {
   "cell_type": "code",
   "execution_count": null,
   "id": "6d9002dd-b11f-4715-97a1-3e5c76a5ac81",
   "metadata": {},
   "outputs": [],
   "source": [
    "term = 2 * astropy.constants.c * astropy.units.s / (50 * astropy.units.kpc)\n",
    "print(term.unit.decompose())"
   ]
  },
  {
   "cell_type": "markdown",
   "id": "6454f807-f95e-4d1b-a1ad-7aee94dde42d",
   "metadata": {},
   "source": [
    "What do you get when running the above cell? Can you explain why? Try playing around to see what happens if you leave out <code>.unit</code> or <code>.decompose()</code>."
   ]
  },
  {
   "cell_type": "markdown",
   "id": "a795f5e9-5792-4fb2-8ee1-1f1458358a31",
   "metadata": {},
   "source": []
  },
  {
   "cell_type": "markdown",
   "id": "5b3c1cda-dcf3-4b1c-be6c-7566c9942b7b",
   "metadata": {},
   "source": [
    "Now you try. I'll now ask you to solve some simple astrophysical problems using astropy.\n",
    "\n",
    "How many meters are in a kiloparsec?"
   ]
  },
  {
   "cell_type": "code",
   "execution_count": null,
   "id": "8560aa51-0e7d-4927-ae0b-0f359bbb7568",
   "metadata": {},
   "outputs": [],
   "source": [
    "#Your code here"
   ]
  },
  {
   "cell_type": "markdown",
   "id": "1c0234e4-84f3-42f0-b172-3231b97f129b",
   "metadata": {},
   "source": [
    "Using astropy, what is the rest energy of an electron in MeV?\n",
    "\n",
    "*Hint: the table at the bottom of https://docs.astropy.org/en/stable/constants/index.html may be helpful.*"
   ]
  },
  {
   "cell_type": "code",
   "execution_count": 33,
   "id": "25237bef-92be-4c65-9218-df1958a9a035",
   "metadata": {},
   "outputs": [],
   "source": [
    "#Your code here"
   ]
  },
  {
   "cell_type": "markdown",
   "id": "7b4f919b-d9c9-4194-b4ce-696758c93a8c",
   "metadata": {},
   "source": [
    "How much bigger (volume) is Jupiter compared to the Earth?"
   ]
  },
  {
   "cell_type": "code",
   "execution_count": 34,
   "id": "b1775002-7e53-4847-b322-66d002b803ee",
   "metadata": {},
   "outputs": [],
   "source": [
    "#Your code here"
   ]
  },
  {
   "cell_type": "markdown",
   "id": "4d07c03d-008b-4af6-8eca-c699b472ee97",
   "metadata": {},
   "source": [
    "How many protons are in the Sun?"
   ]
  },
  {
   "cell_type": "code",
   "execution_count": null,
   "id": "db8b7ace-b782-42f0-b923-ab9810a45b05",
   "metadata": {},
   "outputs": [],
   "source": [
    "#Your code here"
   ]
  },
  {
   "cell_type": "markdown",
   "id": "72b8ced5-ccd8-4b19-99ba-ffabed19a61d",
   "metadata": {},
   "source": [
    "## Calculating the mass limit"
   ]
  },
  {
   "cell_type": "markdown",
   "id": "f72f92ad-e472-40b5-8786-18fb3bc047f9",
   "metadata": {},
   "source": [
    "Let's revisit the equation you derived:\n",
    "$$\n",
    "m_\\nu c^2 = E_{\\nu_1} \\left(\\frac{2c\\Delta t}{D}\\right)^{\\frac{1}{2}} \\left(1 - \\Bigl(\\frac{E_{\\nu_1}}{E_{\\nu_2}}\\Bigr)^2\\right)^{-\\frac{1}{2}}\n",
    "$$"
   ]
  },
  {
   "cell_type": "markdown",
   "id": "c06e08d5-50e9-4c93-b004-38c72f911773",
   "metadata": {},
   "source": [
    "If you recall from our meetings and the original set up I gave you for this problem, we're looking to get the neutrino mass in an expression that looks like \n",
    "$$\n",
    "m_\\nu c^2 = a \\text{ eV} \\left(\\frac{E_{\\nu_1}}{b \\text{ MeV}}\\right)^x \\left(\\frac{\\Delta t}{C \\text{ s}} \\right)^y \\left(\\frac{D}{d \\text{ kpc}}\\right)^z\n",
    "$$"
   ]
  },
  {
   "cell_type": "markdown",
   "id": "19bd51ea-ebce-4d94-8705-340114783213",
   "metadata": {},
   "source": [
    "Equations of this form are called *scaling relations*, and are useful in astrophysics for a few reasons:\n",
    "* Parameters like $a, b, C,$ and $d$ set the unit scale natural to the problem at hand\n",
    "* Parentheses cleanly separate the different physical concepts that are important for the problem\n",
    "* It's really easy to plug in your inputs to get a numerical answer\n",
    "* The parameters $x, y,$ and $z$ readily show how the numerical answer changes (scales) when the inputs are varied"
   ]
  },
  {
   "cell_type": "markdown",
   "id": "11506622-0fbc-4dfd-8196-dba686d5f309",
   "metadata": {},
   "source": [
    "In this section of the notebook, we'll transform your derived equation into the scaling relation. We're already pretty close, in fact you can probably determine some of the parameters."
   ]
  },
  {
   "cell_type": "markdown",
   "id": "1b1b715b-b104-4010-8910-a03680f6ddaf",
   "metadata": {},
   "source": [
    "What are $x, y,$ and $z$?"
   ]
  },
  {
   "cell_type": "code",
   "execution_count": null,
   "id": "30c0226a-437d-4846-b7ac-9fbaf7ed9d51",
   "metadata": {},
   "outputs": [],
   "source": [
    "x = ?\n",
    "y = ?\n",
    "z = ?"
   ]
  },
  {
   "cell_type": "markdown",
   "id": "0a702e5e-2598-4afe-b9f8-94b4bd57f636",
   "metadata": {},
   "source": [
    "Now it would be a good time to set the natural scales of the problem, that is, figure out what $b, C,$ and $d$ should be. This can be acheived by considering the orders of magnitude involved in the problem. For example, most neutrinos were detected by IMB and KII over a time window of a few seconds, or of order 1 second. As such, $C = 1$. Can you make similar arguments for $b$? A natural choice for $d$ would be the actual distance to the Large Magellanic Cloud, which you can ask Wolfram Alpha for."
   ]
  },
  {
   "cell_type": "code",
   "execution_count": 46,
   "id": "2e0460b7-b972-4688-ad47-aa19e550d26b",
   "metadata": {},
   "outputs": [],
   "source": [
    "b = ? * u.MeV\n",
    "C = 1 * u.s #1 second\n",
    "d = ? * u.kpc"
   ]
  },
  {
   "cell_type": "markdown",
   "id": "147ff54d-64d1-470f-92ed-073da3ef13a5",
   "metadata": {},
   "source": [
    "Now all that remains is to determine $a$."
   ]
  },
  {
   "cell_type": "markdown",
   "id": "714f877c-889a-4378-9e4d-739744fc1bda",
   "metadata": {},
   "source": [
    "Keep in mind that we're looking for an upper limit on the neutrino rest energy. If we're judicious about which values we use ( the values of $E_{\\nu_1}$, $E_{\\nu_2}$, and $\\Delta t$), we can place tighter constraints than if we just picked points at random.\n",
    "\n",
    "In other words, we should use data points that produce the *smallest* upper limit. What kind of arrangement of $E_{\\nu_1}, E_{\\nu_2},$ and $\\Delta t$ produces the smallest upper limit on $m_\\nu c^2$?\n",
    "\n",
    "*Hint: Look at where $E_{\\nu_1}, E_{\\nu_2},$ and $\\Delta t$ appear in the formula you derived, and think about how to make the right-hand-side of the equation as small as possible.*"
   ]
  },
  {
   "cell_type": "markdown",
   "id": "4b4b155e-8c3e-42fe-906d-d8a8b35c6ed6",
   "metadata": {},
   "source": []
  },
  {
   "cell_type": "markdown",
   "id": "68290a03-9949-4d29-9aa3-4ab27a54bf91",
   "metadata": {},
   "source": [
    "We can determine $a$ by plugging in $E_{\\nu_1} = b,$ a judicious choice of $E_{\\nu_2},$ and $\\Delta t = C$ to the equation that you derived:"
   ]
  },
  {
   "cell_type": "code",
   "execution_count": 47,
   "id": "40de8724-b3ca-4e7f-a0fc-4b8ed78d9eb7",
   "metadata": {},
   "outputs": [],
   "source": [
    "E_1 = b\n",
    "E_2 = ? * u.MeV\n",
    "delta_t = C"
   ]
  },
  {
   "cell_type": "markdown",
   "id": "3fae6563-4d8f-4983-9ab3-c9c10f000ad5",
   "metadata": {},
   "source": [
    "Run the following line to determine the value of $a$. This code just plugs all the parameters into the formula that you derived."
   ]
  },
  {
   "cell_type": "code",
   "execution_count": null,
   "id": "01a6b572-cfe5-46bc-a831-21f48ef855fc",
   "metadata": {},
   "outputs": [],
   "source": [
    "a = (E_1 * (2 * astropy.constants.c * delta_t / (d * astropy.units.kpc))**(1/2) * (1 - (E_1/E_2))**(-1/2)).to('eV')\n",
    "print(\"{:.2f}\".format(a.value) + \" eV\")"
   ]
  },
  {
   "cell_type": "markdown",
   "id": "c418bcd0-463d-47b6-bb38-c68245ac1aaa",
   "metadata": {},
   "source": [
    "You can now build the scaling relation! Double click the following cell to edit it and replace with the values of each parameter that you figured out, then run it to render. That is, replace $a, b, C, d, x, y, z$ with their actual values."
   ]
  },
  {
   "cell_type": "markdown",
   "id": "05dd0953-fa6d-4cd6-b94d-3ca9f841ecb2",
   "metadata": {},
   "source": [
    "$$\n",
    "m_\\nu c^2 = a \\text{ eV} \\left(\\frac{E_{\\nu_1}}{b \\text{ MeV}}\\right)^{x} \\left(\\frac{\\Delta t}{C \\text{ s}} \\right)^{y} \\left(\\frac{D}{d \\text{ kpc}}\\right)^{z}\n",
    "$$"
   ]
  },
  {
   "cell_type": "markdown",
   "id": "d3d83edd-2616-4dba-b44f-632b5a7ce8e1",
   "metadata": {},
   "source": [
    "Congratulations! You've built your first scaling relation!!! \n",
    "\n",
    "It turns out (not by accident, but by design) that your answer for the upper limit on the mass of the neutrino happens to be $a \\text{ eV}$, since you used the data to build the scaling relation. Yet another advantage of scaling relations! If you don't quite understand why $a$ is your answer, or the logical connection between the formula you derived and $a$, we can absolutely talk about it."
   ]
  },
  {
   "cell_type": "markdown",
   "id": "2c555f06-24c0-49bd-a848-e0fca445b30e",
   "metadata": {},
   "source": [
    "Please send this to Melanie when you're finished."
   ]
  }
 ],
 "metadata": {
  "kernelspec": {
   "display_name": "Python 3 (ipykernel)",
   "language": "python",
   "name": "python3"
  },
  "language_info": {
   "codemirror_mode": {
    "name": "ipython",
    "version": 3
   },
   "file_extension": ".py",
   "mimetype": "text/x-python",
   "name": "python",
   "nbconvert_exporter": "python",
   "pygments_lexer": "ipython3",
   "version": "3.11.5"
  }
 },
 "nbformat": 4,
 "nbformat_minor": 5
}
